{
 "cells": [
  {
   "cell_type": "code",
   "execution_count": 10,
   "id": "ad56d1bd",
   "metadata": {},
   "outputs": [],
   "source": [
    "# default_exp helper"
   ]
  },
  {
   "cell_type": "markdown",
   "id": "86712b98",
   "metadata": {},
   "source": [
    "### Helper functions\n",
    "\n",
    "> A couple of helper functions are available"
   ]
  },
  {
   "cell_type": "code",
   "execution_count": 3,
   "id": "ba1cd744",
   "metadata": {},
   "outputs": [],
   "source": [
    "#export\n",
    "import urllib.parse, urllib.request\n",
    "import json\n",
    "from urllib.parse import urlencode, quote_plus\n",
    "import http.client\n",
    "import time\n",
    "from datetime import datetime, timedelta"
   ]
  },
  {
   "cell_type": "markdown",
   "id": "7cd727a6",
   "metadata": {},
   "source": [
    "#### Url Request\n",
    "Basic function that opens an url"
   ]
  },
  {
   "cell_type": "code",
   "execution_count": 15,
   "id": "d711bded",
   "metadata": {},
   "outputs": [],
   "source": [
    "#export\n",
    "def urlrequest(url, apikey, param=None):\n",
    "    req = urllib.request.Request(url)\n",
    "    req.add_header(\"Authorization\", apikey)\n",
    "    resp = urllib.request.urlopen(req, timeout=200)\n",
    "    responsedata = resp.read()\n",
    "    data = json.loads(responsedata)   \n",
    "    return data\n"
   ]
  },
  {
   "cell_type": "markdown",
   "id": "f436fe65",
   "metadata": {},
   "source": [
    "#### Update Score\n",
    "For the given field (the score field) and task, a value (the score) is posted"
   ]
  },
  {
   "cell_type": "code",
   "execution_count": 8,
   "id": "1078a7a6",
   "metadata": {},
   "outputs": [],
   "source": [
    "#export\n",
    "def updatescore(fieldid, taskid, value, apikey):\n",
    "    conn = http.client.HTTPSConnection(\"api.clickup.com\")\n",
    "\n",
    "    payload = \"{\\r\\n  \\\"value\\\": \" + value + \"\\r\\n}\"\n",
    "\n",
    "    headers = {\n",
    "        'authorization': apikey,\n",
    "        'content-type': \"application/json\",\n",
    "        'cache-control': \"no-cache\"\n",
    "        }\n",
    "\n",
    "    conn.request(\"POST\", \"/api/v2/task/\" + taskid + \"/field/\" + fieldid + \"/\", payload, headers)\n",
    "\n",
    "    res = conn.getresponse()\n",
    "    data = res.read()\n",
    "    return data.decode(\"utf-8\")\n"
   ]
  },
  {
   "cell_type": "code",
   "execution_count": 11,
   "id": "02c8713c",
   "metadata": {},
   "outputs": [
    {
     "name": "stdout",
     "output_type": "stream",
     "text": [
      "Converted 00_core.ipynb.\n",
      "Converted 01_helper.ipynb.\n",
      "Converted index.ipynb.\n"
     ]
    }
   ],
   "source": [
    "#hide\n",
    "from nbdev.export import notebook2script\n",
    "notebook2script()"
   ]
  },
  {
   "cell_type": "code",
   "execution_count": 14,
   "id": "dc6e27f3",
   "metadata": {},
   "outputs": [
    {
     "name": "stdout",
     "output_type": "stream",
     "text": [
      "converting: C:\\Users\\310267217\\Python Development\\ClickUpShift\\index.ipynb\n",
      "converting C:\\Users\\310267217\\Python Development\\ClickUpShift\\index.ipynb to README.md\n"
     ]
    }
   ],
   "source": [
    "#hide\n",
    "from nbdev.cli import nbdev_build_docs\n",
    "nbdev_build_docs()"
   ]
  }
 ],
 "metadata": {
  "kernelspec": {
   "display_name": "Python 3",
   "language": "python",
   "name": "python3"
  },
  "language_info": {
   "codemirror_mode": {
    "name": "ipython",
    "version": 3
   },
   "file_extension": ".py",
   "mimetype": "text/x-python",
   "name": "python",
   "nbconvert_exporter": "python",
   "pygments_lexer": "ipython3",
   "version": "3.8.5"
  }
 },
 "nbformat": 4,
 "nbformat_minor": 5
}
